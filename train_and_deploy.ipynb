{
 "cells": [
  {
   "cell_type": "code",
   "execution_count": null,
   "id": "initial_id",
   "metadata": {
    "collapsed": true
   },
   "outputs": [],
   "source": [
    "!pip install nest_asyncio"
   ]
  },
  {
   "cell_type": "code",
   "execution_count": null,
   "outputs": [],
   "source": [
    "from sklearn.datasets import load_diabetes\n",
    "from sklearn.linear_model import LinearRegression\n",
    "from sklearn.model_selection import train_test_split\n",
    "import joblib\n",
    "\n",
    "# Train model\n",
    "X, y = load_diabetes(return_X_y=True)\n",
    "X_train, X_test, y_train, y_test = train_test_split(X, y, random_state=42)\n",
    "\n",
    "model = LinearRegression()\n",
    "model.fit(X_train, y_train)\n",
    "\n",
    "# Save model\n",
    "joblib.dump(model, \"models/diabetes_model_lr.pkl\")"
   ],
   "metadata": {
    "collapsed": false
   },
   "id": "90815517b3e42ed"
  },
  {
   "cell_type": "code",
   "execution_count": 5,
   "outputs": [],
   "source": [
    "from fastapi import FastAPI\n",
    "from pydantic import BaseModel\n",
    "import numpy as np\n",
    "import joblib\n",
    "\n",
    "# Prepare app and model\n",
    "app = FastAPI()\n",
    "model = joblib.load(\"models/diabetes_model_lr.pkl\")\n",
    "\n",
    "# Define input schema\n",
    "class DiabetesInput(BaseModel):\n",
    "    data: list  # List of 10 features\n",
    "\n",
    "@app.post(\"/predict\")\n",
    "def predict(input: DiabetesInput):\n",
    "    input_data = np.array([input.data])\n",
    "    prediction = model.predict(input_data)\n",
    "    return {\"prediction\": float(prediction[0])}"
   ],
   "metadata": {
    "collapsed": false,
    "ExecuteTime": {
     "end_time": "2025-04-19T02:34:54.474429Z",
     "start_time": "2025-04-19T02:34:53.861166Z"
    }
   },
   "id": "15360c9be610ee58"
  },
  {
   "cell_type": "code",
   "execution_count": 7,
   "outputs": [
    {
     "name": "stderr",
     "output_type": "stream",
     "text": [
      "INFO:     Started server process [62538]\n",
      "INFO:     Waiting for application startup.\n",
      "INFO:     Application startup complete.\n",
      "INFO:     Uvicorn running on http://127.0.0.1:8000 (Press CTRL+C to quit)\n",
      "INFO:     Shutting down\n",
      "INFO:     Waiting for application shutdown.\n",
      "INFO:     Application shutdown complete.\n",
      "INFO:     Finished server process [62538]\n"
     ]
    }
   ],
   "source": [
    "import nest_asyncio\n",
    "import uvicorn\n",
    "\n",
    "nest_asyncio.apply()  # Needed for running Uvicorn inside notebook\n",
    "\n",
    "# Run the app (non-blocking)\n",
    "uvicorn.run(app, host=\"127.0.0.1\", port=8000)"
   ],
   "metadata": {
    "collapsed": false,
    "ExecuteTime": {
     "end_time": "2025-04-19T02:37:44.233736Z",
     "start_time": "2025-04-19T02:37:23.075228Z"
    }
   },
   "id": "402d88b258f4260c"
  },
  {
   "cell_type": "code",
   "execution_count": null,
   "outputs": [],
   "source": [
    "import requests\n",
    "\n",
    "data = {\n",
    "    \"data\": [0.038, 0.050, 0.061, 0.022, -0.044, -0.034, -0.043, -0.002, 0.019, -0.017]\n",
    "}\n",
    "\n",
    "response = requests.post(\"http://127.0.0.1:8000/predict\", json=data)\n",
    "print(\"Prediction result:\", response.json())"
   ],
   "metadata": {
    "collapsed": false
   },
   "id": "1018b143d4ac331c"
  }
 ],
 "metadata": {
  "kernelspec": {
   "display_name": "Python 3",
   "language": "python",
   "name": "python3"
  },
  "language_info": {
   "codemirror_mode": {
    "name": "ipython",
    "version": 2
   },
   "file_extension": ".py",
   "mimetype": "text/x-python",
   "name": "python",
   "nbconvert_exporter": "python",
   "pygments_lexer": "ipython2",
   "version": "2.7.6"
  }
 },
 "nbformat": 4,
 "nbformat_minor": 5
}
